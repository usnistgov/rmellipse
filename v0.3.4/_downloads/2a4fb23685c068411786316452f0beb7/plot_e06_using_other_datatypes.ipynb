{
  "cells": [
    {
      "cell_type": "markdown",
      "metadata": {},
      "source": [
        "\n# Using Arbitrary Data Types\n\nThe RME was built to work best with complex and float data-types inside\nxarray DataArrays. However, the propagation algorithms are agnostic\nto what's inside the DataArray so the basic functionality of wrapping a function\nin a propagator will work regardless of what data type you put in them.\n\nBasic propagation will work with arbitrary data types. However,\nquality of life features like common grid handling, grouping by\ncategories, combining repeated measurements, calculating standard uncertainty,\nand computing confidence intervals may not work depending on the\ndata type you use. You may have to recreate that functionality manually, and we\nstrongly recommend testing your data type with the propagator to ensure it\nfunctions as you expect.\n"
      ]
    },
    {
      "cell_type": "markdown",
      "metadata": {},
      "source": [
        "## Setup\nFirst lets create a custom class and use it to create a RMEMeas object.\n\n"
      ]
    },
    {
      "cell_type": "code",
      "execution_count": null,
      "metadata": {
        "collapsed": false
      },
      "outputs": [],
      "source": [
        "import xarray as xr\nfrom rmellipse.uobjects import RMEMeas\nfrom rmellipse.propagators import RMEProp\n\n\nclass myclass:\n    def __init__(self, val):\n        self.val = val\n\n    def __str__(self):\n        return 'my val is ' + str(self.val)\n\n    def __repr__(self):\n        return self.__str__()\n\n    def __add__(self, o):\n        newval = self.val + o.val\n        return myclass(newval)\n\n\nnominal = xr.DataArray(myclass(2))\nperturbed = xr.DataArray(myclass(2) + myclass(0.1))\n\nmeas = RMEMeas.from_nom('test', nominal)\nmeas.add_umech('sample_meas', perturbed)\nprint(meas)"
      ]
    },
    {
      "cell_type": "markdown",
      "metadata": {},
      "source": [
        "## Propagation\nBecause our custom class can be added together, we can use a vectorized\npropagator with them.\n\n"
      ]
    },
    {
      "cell_type": "code",
      "execution_count": null,
      "metadata": {
        "collapsed": false
      },
      "outputs": [],
      "source": [
        "myprop = RMEProp(sensitivity=True, vectorize=True)\n\n\n@myprop.propagate\ndef add(x, y):\n    return x + y\n\n\nprint(add(meas, meas))"
      ]
    },
    {
      "cell_type": "markdown",
      "metadata": {},
      "source": [
        "Sometimes you may need to take the object out of the xarray so you can\noperate on it or pass it through other functions.\nIn that case you just need to put it\nback into a DataArray with the parameter locations before you output it.\n\n"
      ]
    },
    {
      "cell_type": "code",
      "execution_count": null,
      "metadata": {
        "collapsed": false
      },
      "outputs": [],
      "source": [
        "@myprop.propagate\ndef add2(x, y):\n    # pre-allocate an output\n    out = xr.zeros_like(x)\n    # take the custom classes out of the xarray object and operate on them\n    new_vals = x.values + y.values\n    # put them back in the DataArray we pre-allocated\n    out.values = new_vals\n    return out\n\n\nnew_meas = add2(meas, meas)\nprint(new_meas)"
      ]
    },
    {
      "cell_type": "markdown",
      "metadata": {},
      "source": [
        "Next we can convert our data type to a float so we can\nuse other built in features, like calculating standard uncertainty.\n\n"
      ]
    },
    {
      "cell_type": "code",
      "execution_count": null,
      "metadata": {
        "collapsed": false
      },
      "outputs": [],
      "source": [
        "@myprop.propagate\ndef to_float(x):\n    out = xr.zeros_like(x)\n    out.values = [xi.val for xi in x.values]\n    return out\n\n\nnew_meas = to_float(new_meas)\nlin_unc, mc_un = new_meas.stdunc()\nprint(new_meas)\nprint(lin_unc)"
      ]
    }
  ],
  "metadata": {
    "kernelspec": {
      "display_name": "Python 3",
      "language": "python",
      "name": "python3"
    },
    "language_info": {
      "codemirror_mode": {
        "name": "ipython",
        "version": 3
      },
      "file_extension": ".py",
      "mimetype": "text/x-python",
      "name": "python",
      "nbconvert_exporter": "python",
      "pygments_lexer": "ipython3",
      "version": "3.13.3"
    }
  },
  "nbformat": 4,
  "nbformat_minor": 0
}